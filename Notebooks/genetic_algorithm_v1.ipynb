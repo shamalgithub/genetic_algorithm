{
 "cells": [
  {
   "cell_type": "markdown",
   "metadata": {},
   "source": [
    "Find the values to minimize the objective function.<br>\n",
    "minimize = 20000*X1 + 15000*X2 + 17000*X3. <br> where X1 ,X2 ,X3 are  all integer values. <br>\n",
    "X1 + X2 + X3 = 10 , and  X1 ,X2 and X3 should all be greater than zero."
   ]
  },
  {
   "cell_type": "code",
   "execution_count": 1,
   "metadata": {},
   "outputs": [],
   "source": [
    "import pandas as pd \n",
    "import numpy as np \n",
    "from typing import List\n",
    "import random"
   ]
  },
  {
   "cell_type": "code",
   "execution_count": 2,
   "metadata": {},
   "outputs": [],
   "source": [
    "def objective_funtion(x,y,z):\n",
    "    if (x+y+z == 10 and x>0 and y> 0 and z>0):\n",
    "        return True\n",
    "    else:\n",
    "        return False\n",
    "    "
   ]
  },
  {
   "cell_type": "code",
   "execution_count": 3,
   "metadata": {},
   "outputs": [],
   "source": [
    "\n",
    "def mutaion_function(child_gene):\n",
    "    \n",
    "    random_number = random.randint(1 ,20)\n",
    "    if(random_number == 1):\n",
    "        print(\"Mutation occured !!\")\n",
    "        random_bit = random.randint(1 , len(child_gene))\n",
    "        child_gene = list(child_gene)\n",
    "        random_bit = random.randint(0 , len(child_gene)-1)\n",
    "        if(child_gene[random_bit] == \"0\"):\n",
    "            child_gene[random_bit] = \"1\"\n",
    "        else:\n",
    "            child_gene[random_bit] =\"0\"\n",
    "        return(''.join(map(str , child_gene)))  \n",
    "    else:\n",
    "        return(child_gene)   "
   ]
  },
  {
   "cell_type": "markdown",
   "metadata": {},
   "source": [
    "### The genetic algorithm has the following main components.<br>\n",
    "1. Genetic representation of the problem \n",
    "2. Function to generate new solution\n",
    "3. Fitness function - check how good a given genome is \n",
    "4. selection function - select the best genome to generate the next generate\n",
    "5. crossover function - a function to select the cross over point and how cross over should happen \n",
    "6. mutation function - a function to implement mutations for a given genome \n",
    "\n",
    "![Genetic algorithm flow chart representation.|200](https://www.researchgate.net/publication/265208874/figure/fig2/AS:295968990875649@1447575914058/Flow-chart-of-genetic-algorithm.png)"
   ]
  },
  {
   "cell_type": "code",
   "execution_count": 4,
   "metadata": {},
   "outputs": [],
   "source": [
    "def generate_population():\n",
    "    \n",
    "    number_of_parents = 4\n",
    "    generation =[]\n",
    "    while (len(generation) < number_of_parents):\n",
    "        x =(random.randint(1,9))\n",
    "        y =(random.randint(1,9))\n",
    "        z =(random.randint(1,9))\n",
    "        if (objective_funtion(x , y , z)):\n",
    "            temp = {\n",
    "                'x':x,\n",
    "                'y':y ,\n",
    "                'z':z\n",
    "            }\n",
    "            generation.append(temp)\n",
    "    return generation\n",
    "\n"
   ]
  },
  {
   "cell_type": "code",
   "execution_count": 5,
   "metadata": {},
   "outputs": [],
   "source": [
    "def fitness(populaiton):\n",
    "    # populaiton = generate_population()\n",
    "    # print(populaiton)\n",
    "    fitness_list =[]\n",
    "    value_list =[]\n",
    "    for index , i in enumerate(populaiton):\n",
    "      \n",
    "        value = i['x']*20000 + i['y']*15000 + i['z']*17000\n",
    "        value_list.append(value)\n",
    "        \n",
    "    total = sum(value_list) \n",
    "    \n",
    "    for index , i in enumerate(value_list):\n",
    "        temp= {\n",
    "            'Generation' : f\"Gen - {index+1}\",\n",
    "            \"Fitness\" : round(1/(i/total) , 2)\n",
    "        }\n",
    "       \n",
    "        fitness_list.append(temp)\n",
    "        \n",
    "    fitness_list = sorted(fitness_list , key=lambda k : k['Fitness'] ,reverse=True)\n",
    "   \n",
    "    return (fitness_list)\n",
    "       \n",
    "\n"
   ]
  },
  {
   "cell_type": "code",
   "execution_count": 6,
   "metadata": {},
   "outputs": [
    {
     "data": {
      "text/plain": [
       "[{'x': '0001', 'y': '0110', 'z': '0011'},\n",
       " {'x': '0010', 'y': '0011', 'z': '0101'},\n",
       " {'x': '0010', 'y': '0011', 'z': '0101'},\n",
       " {'x': '0001', 'y': '0101', 'z': '0100'}]"
      ]
     },
     "execution_count": 6,
     "metadata": {},
     "output_type": "execute_result"
    }
   ],
   "source": [
    "def encoding_function():\n",
    "    #pass in the population and encode them\n",
    "    population = generate_population() \n",
    "    # binary encoding \n",
    "    encoded_population =[]\n",
    "    for p in population:\n",
    "        x = bin(p['x'])[2:].zfill(4) \n",
    "        y = bin(p['y'])[2:].zfill(4) \n",
    "        z = bin(p['z'])[2:].zfill(4) \n",
    "        temp ={\n",
    "            \"x\" : x,\n",
    "             \"y\" : y,\n",
    "             'z' : z\n",
    "        }\n",
    "        encoded_population.append(temp)\n",
    "    return encoded_population\n",
    "\n",
    "encoding_function()\n",
    "        "
   ]
  },
  {
   "cell_type": "code",
   "execution_count": 7,
   "metadata": {},
   "outputs": [
    {
     "data": {
      "text/html": [
       "<div>\n",
       "<style scoped>\n",
       "    .dataframe tbody tr th:only-of-type {\n",
       "        vertical-align: middle;\n",
       "    }\n",
       "\n",
       "    .dataframe tbody tr th {\n",
       "        vertical-align: top;\n",
       "    }\n",
       "\n",
       "    .dataframe thead th {\n",
       "        text-align: right;\n",
       "    }\n",
       "</style>\n",
       "<table border=\"1\" class=\"dataframe\">\n",
       "  <thead>\n",
       "    <tr style=\"text-align: right;\">\n",
       "      <th></th>\n",
       "      <th>0</th>\n",
       "      <th>1</th>\n",
       "      <th>2</th>\n",
       "    </tr>\n",
       "  </thead>\n",
       "  <tbody>\n",
       "    <tr>\n",
       "      <th>0</th>\n",
       "      <td>7</td>\n",
       "      <td>3</td>\n",
       "      <td>0</td>\n",
       "    </tr>\n",
       "    <tr>\n",
       "      <th>1</th>\n",
       "      <td>2</td>\n",
       "      <td>1</td>\n",
       "      <td>7</td>\n",
       "    </tr>\n",
       "    <tr>\n",
       "      <th>2</th>\n",
       "      <td>7</td>\n",
       "      <td>3</td>\n",
       "      <td>0</td>\n",
       "    </tr>\n",
       "    <tr>\n",
       "      <th>3</th>\n",
       "      <td>4</td>\n",
       "      <td>1</td>\n",
       "      <td>5</td>\n",
       "    </tr>\n",
       "    <tr>\n",
       "      <th>4</th>\n",
       "      <td>7</td>\n",
       "      <td>3</td>\n",
       "      <td>0</td>\n",
       "    </tr>\n",
       "    <tr>\n",
       "      <th>5</th>\n",
       "      <td>2</td>\n",
       "      <td>3</td>\n",
       "      <td>5</td>\n",
       "    </tr>\n",
       "    <tr>\n",
       "      <th>6</th>\n",
       "      <td>3</td>\n",
       "      <td>1</td>\n",
       "      <td>6</td>\n",
       "    </tr>\n",
       "    <tr>\n",
       "      <th>7</th>\n",
       "      <td>5</td>\n",
       "      <td>1</td>\n",
       "      <td>4</td>\n",
       "    </tr>\n",
       "    <tr>\n",
       "      <th>8</th>\n",
       "      <td>3</td>\n",
       "      <td>1</td>\n",
       "      <td>6</td>\n",
       "    </tr>\n",
       "    <tr>\n",
       "      <th>9</th>\n",
       "      <td>3</td>\n",
       "      <td>3</td>\n",
       "      <td>4</td>\n",
       "    </tr>\n",
       "    <tr>\n",
       "      <th>10</th>\n",
       "      <td>5</td>\n",
       "      <td>1</td>\n",
       "      <td>4</td>\n",
       "    </tr>\n",
       "    <tr>\n",
       "      <th>11</th>\n",
       "      <td>3</td>\n",
       "      <td>3</td>\n",
       "      <td>4</td>\n",
       "    </tr>\n",
       "  </tbody>\n",
       "</table>\n",
       "</div>"
      ],
      "text/plain": [
       "    0  1  2\n",
       "0   7  3  0\n",
       "1   2  1  7\n",
       "2   7  3  0\n",
       "3   4  1  5\n",
       "4   7  3  0\n",
       "5   2  3  5\n",
       "6   3  1  6\n",
       "7   5  1  4\n",
       "8   3  1  6\n",
       "9   3  3  4\n",
       "10  5  1  4\n",
       "11  3  3  4"
      ]
     },
     "execution_count": 7,
     "metadata": {},
     "output_type": "execute_result"
    }
   ],
   "source": [
    "x = [['0111', '0011', '0000'], ['0010', '0001', '0111'], ['0111', '0011', '0000'], ['0100', '0001', '0101'], ['0111', '0011', '0000'], ['0010', '0011', '0101'], ['0011', '0001', '0110'], ['0101', '0001', '0100'], ['0011', '0001', '0110'], ['0011', '0011', '0100'], ['0101', '0001', '0100'], ['0011', '0011', '0100']]\n",
    "\n",
    "\n",
    "def convert(x):\n",
    "    return int(x , 2)\n",
    "data_frame = pd.DataFrame(x)\n",
    "data_frame = data_frame.applymap(convert)\n",
    "data_frame\n"
   ]
  },
  {
   "cell_type": "code",
   "execution_count": 8,
   "metadata": {},
   "outputs": [
    {
     "name": "stdout",
     "output_type": "stream",
     "text": [
      "Mutation occured !!\n",
      "Mutation occured !!\n",
      "Mutation occured !!\n",
      "Mutation occured !!\n",
      "[{'x': 5, 'y': 2, 'z': 3}, {'x': 5, 'y': 3, 'z': 2}, {'x': 3, 'y': 3, 'z': 4}]\n",
      "   x  y  z\n",
      "0  5  3  2\n",
      "1  6  2  2\n",
      "2  3  2  5\n",
      "3  3  3  4\n",
      "0  5  2  3\n",
      "1  5  3  2\n",
      "2  3  3  4\n"
     ]
    },
    {
     "data": {
      "text/plain": [
       "[{'Generation': 'Gen - 3', 'Fitness': 3.08},\n",
       " {'Generation': 'Gen - 2', 'Fitness': 2.98},\n",
       " {'Generation': 'Gen - 1', 'Fitness': 2.94}]"
      ]
     },
     "execution_count": 8,
     "metadata": {},
     "output_type": "execute_result"
    }
   ],
   "source": [
    "\n",
    "\n",
    "def crossover_function():\n",
    "    # get the encoded parenets here this would return a list of 4 parents with 3 genes each \n",
    "    encoded_parents = encoding_function()\n",
    "    df = pd.DataFrame(encoded_parents) \n",
    "    df = df.applymap(convert)   \n",
    "    # create a final child list - this will be the list that is passed out of the cross-over function \n",
    "    \n",
    "    final_child_list =[]\n",
    "    \"\"\"\n",
    "    Now we would define a elite parent counter and a parent counter. This way we can cross each \n",
    "    elite parent with the remaining parents - P1 X P2 , P2 X P3 ..  \n",
    "    \"\"\"\n",
    "    elite_parent_counter =0\n",
    "    parent_counter =1 \n",
    "    \n",
    "    \"\"\"\n",
    "    Here we would set the elite parent to the 1st element of the list.\n",
    "    this should ideally be set to the parent with the highest fitness function. implement this in the\n",
    "    future \n",
    "    \"\"\"\n",
    "    while(elite_parent_counter <= 3 ):\n",
    "        elite_parent = encoded_parents[elite_parent_counter]\n",
    "        child_list =[]\n",
    "        for parent in encoded_parents[parent_counter:]:\n",
    "        \n",
    "            temp_gen_one =[]\n",
    "            temp_gen_two =[]\n",
    "            temp_parent_list =[]\n",
    "            for p in parent:\n",
    "                temp_parent_list.append(p)\n",
    "                child_one = elite_parent[p]\n",
    "                child_two = parent[p]\n",
    "                gene_one = elite_parent[p][1:3]\n",
    "                gene_two = parent[p][1:3]\n",
    "                child_one = list(child_one)\n",
    "                child_two = list(child_two)\n",
    "                child_one[1:3] = gene_two\n",
    "                child_two[1:3] = gene_one\n",
    "                child_one = ''.join(map(str , child_one))\n",
    "                child_two =''.join(map(str , child_two))\n",
    "                temp_gen_one.append(mutaion_function(child_one))\n",
    "                temp_gen_two.append(mutaion_function(child_two))\n",
    "            \n",
    "        \n",
    "            child_list.append(temp_gen_two)\n",
    "            child_list.append(temp_gen_one) \n",
    "        \n",
    "        \n",
    "        \n",
    "        for child in child_list:\n",
    "            if(objective_funtion(int(child[0] ,2) , int(child[1] ,2) , int(child[2] ,2)) and len(final_child_list)< 4):\n",
    "                temp_object ={\n",
    "                    'x' :   int(child[0] ,2) ,\n",
    "                    'y':    int(child[1] ,2),\n",
    "                    'z':    int(child[2] ,2) \n",
    "                }\n",
    "                final_child_list.append(temp_object)\n",
    "            \n",
    "        elite_parent_counter = elite_parent_counter + 1\n",
    "        parent_counter = parent_counter + 1\n",
    "         \n",
    "    print(final_child_list)\n",
    "    temp_df = pd.DataFrame(final_child_list)\n",
    "    df = pd.concat([df , temp_df] , axis=0)\n",
    "    print(df)\n",
    "    return final_child_list\n",
    "    # return(df)\n",
    "\n",
    "\n",
    "def convert(x):\n",
    "    return int(x , 2)\n",
    "\n",
    "fitness(crossover_function())\n"
   ]
  },
  {
   "cell_type": "code",
   "execution_count": 12,
   "metadata": {},
   "outputs": [
    {
     "name": "stdout",
     "output_type": "stream",
     "text": [
      "Mutation occured !!\n",
      "Mutation occured !!\n",
      "Mutation occured !!\n",
      "[{'x': 4, 'y': 3, 'z': 3}, {'x': 5, 'y': 3, 'z': 2}, {'x': 3, 'y': 3, 'z': 4}, {'x': 3, 'y': 1, 'z': 6}]\n",
      "   x  y  z\n",
      "0  5  3  2\n",
      "1  4  5  1\n",
      "2  3  3  4\n",
      "3  3  1  6\n",
      "0  4  3  3\n",
      "1  5  3  2\n",
      "2  3  3  4\n",
      "3  3  1  6\n"
     ]
    }
   ],
   "source": [
    "       \n",
    "df = crossover_function()\n"
   ]
  }
 ],
 "metadata": {
  "kernelspec": {
   "display_name": "Python 3.10.4 ('virtual_environment': venv)",
   "language": "python",
   "name": "python3"
  },
  "language_info": {
   "codemirror_mode": {
    "name": "ipython",
    "version": 3
   },
   "file_extension": ".py",
   "mimetype": "text/x-python",
   "name": "python",
   "nbconvert_exporter": "python",
   "pygments_lexer": "ipython3",
   "version": "3.10.4"
  },
  "orig_nbformat": 4,
  "vscode": {
   "interpreter": {
    "hash": "2b3644f845682e8943692bbad2d262fd42e55cb4a5e09f070b6604b94eef9333"
   }
  }
 },
 "nbformat": 4,
 "nbformat_minor": 2
}

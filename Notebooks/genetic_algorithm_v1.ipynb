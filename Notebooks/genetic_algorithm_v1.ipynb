{
 "cells": [
  {
   "cell_type": "markdown",
   "metadata": {},
   "source": [
    "Find the values to minimize the objective function.<br>\n",
    "minimize = 20000*X1 + 15000*X2 + 17000*X3. <br> where X1 ,X2 ,X3 are  all integer values. <br>\n",
    "X1 + X2 + X3 = 10 , and  X1 ,X2 and X3 should all be greater than zero."
   ]
  },
  {
   "cell_type": "code",
   "execution_count": 1,
   "metadata": {},
   "outputs": [],
   "source": [
    "import pandas as pd \n",
    "import numpy as np \n",
    "from typing import List\n",
    "import random"
   ]
  },
  {
   "cell_type": "markdown",
   "metadata": {},
   "source": [
    "### The genetic algorithm has the following main components.<br>\n",
    "1. Genetic representation of the problem \n",
    "2. Function to generate new solution\n",
    "3. Fitness function - check how good a given genome is \n",
    "4. selection function - select the best genome to generate the next generate\n",
    "5. crossover function - a function to select the cross over point and how cross over should happen \n",
    "6. mutation function - a function to implement mutations for a given genome \n",
    "\n",
    "![Genetic algorithm flow chart representation.|200](https://www.researchgate.net/publication/265208874/figure/fig2/AS:295968990875649@1447575914058/Flow-chart-of-genetic-algorithm.png)"
   ]
  },
  {
   "cell_type": "code",
   "execution_count": 8,
   "metadata": {},
   "outputs": [
    {
     "data": {
      "text/plain": [
       "[{'x': 4, 'y': 4, 'z': 2},\n",
       " {'x': 2, 'y': 1, 'z': 7},\n",
       " {'x': 3, 'y': 5, 'z': 2},\n",
       " {'x': 2, 'y': 2, 'z': 6}]"
      ]
     },
     "execution_count": 8,
     "metadata": {},
     "output_type": "execute_result"
    }
   ],
   "source": [
    "def generate_population():\n",
    "    \n",
    "    number_of_parents = 4\n",
    "    generation =[]\n",
    "    while (len(generation) < number_of_parents):\n",
    "        x =(random.randint(1,9))\n",
    "        y =(random.randint(1,9))\n",
    "        z =(random.randint(1,9))\n",
    "        if (x+y+z ==10):\n",
    "            temp = {\n",
    "                'x':x,\n",
    "                'y':y ,\n",
    "                'z':z\n",
    "            }\n",
    "            generation.append(temp)\n",
    "    return generation\n",
    "\n"
   ]
  },
  {
   "cell_type": "code",
   "execution_count": 71,
   "metadata": {},
   "outputs": [
    {
     "name": "stdout",
     "output_type": "stream",
     "text": [
      "[{'x': 5, 'y': 2, 'z': 3}, {'x': 3, 'y': 6, 'z': 1}, {'x': 3, 'y': 5, 'z': 2}, {'x': 5, 'y': 1, 'z': 4}]\n"
     ]
    },
    {
     "data": {
      "text/plain": [
       "[{'Generation': 'Gen - 2', 'Fitness': 4.19},\n",
       " {'Generation': 'Gen - 3', 'Fitness': 4.14},\n",
       " {'Generation': 'Gen - 1', 'Fitness': 3.87},\n",
       " {'Generation': 'Gen - 4', 'Fitness': 3.83}]"
      ]
     },
     "execution_count": 71,
     "metadata": {},
     "output_type": "execute_result"
    }
   ],
   "source": [
    "def fitness():\n",
    "    populaiton = generate_population()\n",
    "    print(populaiton)\n",
    "    fitness_list =[]\n",
    "    value_list =[]\n",
    "    for index , i in enumerate(populaiton):\n",
    "      \n",
    "        value = i['x']*20000 + i['y']*15000 + i['z']*17000\n",
    "        value_list.append(value)\n",
    "        \n",
    "    total = sum(value_list) \n",
    "    \n",
    "    for index , i in enumerate(value_list):\n",
    "        temp= {\n",
    "            'Generation' : f\"Gen - {index+1}\",\n",
    "            \"Fitness\" : round(1/(i/total) , 2)\n",
    "        }\n",
    "       \n",
    "        fitness_list.append(temp)\n",
    "        \n",
    "    fitness_list = sorted(fitness_list , key=lambda k : k['Fitness'] ,reverse=True)\n",
    "   \n",
    "    return (fitness_list)\n",
    "       \n",
    "\n",
    "fitness()"
   ]
  }
 ],
 "metadata": {
  "kernelspec": {
   "display_name": "Python 3.10.4 ('virtual_environment': venv)",
   "language": "python",
   "name": "python3"
  },
  "language_info": {
   "codemirror_mode": {
    "name": "ipython",
    "version": 3
   },
   "file_extension": ".py",
   "mimetype": "text/x-python",
   "name": "python",
   "nbconvert_exporter": "python",
   "pygments_lexer": "ipython3",
   "version": "3.10.4"
  },
  "orig_nbformat": 4,
  "vscode": {
   "interpreter": {
    "hash": "2b3644f845682e8943692bbad2d262fd42e55cb4a5e09f070b6604b94eef9333"
   }
  }
 },
 "nbformat": 4,
 "nbformat_minor": 2
}

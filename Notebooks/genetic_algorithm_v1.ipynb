{
 "cells": [
  {
   "cell_type": "markdown",
   "metadata": {},
   "source": [
    "Find the values to minimize the objective function.<br>\n",
    "minimize = 20000*X1 + 15000*X2 + 17000*X3. <br> where X1 ,X2 ,X3 are  all integer values. <br>\n",
    "X1 + X2 + X3 = 10 , and  X1 ,X2 and X3 should all be greater than zero."
   ]
  },
  {
   "cell_type": "code",
   "execution_count": 3,
   "metadata": {},
   "outputs": [],
   "source": [
    "import pandas as pd \n",
    "import numpy as np \n",
    "from typing import List\n",
    "import random"
   ]
  },
  {
   "cell_type": "code",
   "execution_count": 19,
   "metadata": {},
   "outputs": [],
   "source": [
    "def objective_funtion(x,y,z):\n",
    "    if (x+y+z == 10 and x>0 and y> 0 and z>0):\n",
    "        return True\n",
    "    else:\n",
    "        return False\n",
    "    "
   ]
  },
  {
   "cell_type": "markdown",
   "metadata": {},
   "source": [
    "### The genetic algorithm has the following main components.<br>\n",
    "1. Genetic representation of the problem \n",
    "2. Function to generate new solution\n",
    "3. Fitness function - check how good a given genome is \n",
    "4. selection function - select the best genome to generate the next generate\n",
    "5. crossover function - a function to select the cross over point and how cross over should happen \n",
    "6. mutation function - a function to implement mutations for a given genome \n",
    "\n",
    "![Genetic algorithm flow chart representation.|200](https://www.researchgate.net/publication/265208874/figure/fig2/AS:295968990875649@1447575914058/Flow-chart-of-genetic-algorithm.png)"
   ]
  },
  {
   "cell_type": "code",
   "execution_count": 20,
   "metadata": {},
   "outputs": [],
   "source": [
    "def generate_population():\n",
    "    \n",
    "    number_of_parents = 4\n",
    "    generation =[]\n",
    "    while (len(generation) < number_of_parents):\n",
    "        x =(random.randint(1,9))\n",
    "        y =(random.randint(1,9))\n",
    "        z =(random.randint(1,9))\n",
    "        if (objective_funtion(x , y , z)):\n",
    "            temp = {\n",
    "                'x':x,\n",
    "                'y':y ,\n",
    "                'z':z\n",
    "            }\n",
    "            generation.append(temp)\n",
    "    return generation\n",
    "\n"
   ]
  },
  {
   "cell_type": "code",
   "execution_count": 21,
   "metadata": {},
   "outputs": [
    {
     "name": "stdout",
     "output_type": "stream",
     "text": [
      "[{'x': 1, 'y': 8, 'z': 1}, {'x': 5, 'y': 2, 'z': 3}, {'x': 3, 'y': 1, 'z': 6}, {'x': 3, 'y': 4, 'z': 3}]\n"
     ]
    },
    {
     "data": {
      "text/plain": [
       "[{'Generation': 'Gen - 1', 'Fitness': 4.37},\n",
       " {'Generation': 'Gen - 4', 'Fitness': 4.01},\n",
       " {'Generation': 'Gen - 3', 'Fitness': 3.88},\n",
       " {'Generation': 'Gen - 2', 'Fitness': 3.79}]"
      ]
     },
     "execution_count": 21,
     "metadata": {},
     "output_type": "execute_result"
    }
   ],
   "source": [
    "def fitness():\n",
    "    populaiton = generate_population()\n",
    "    print(populaiton)\n",
    "    fitness_list =[]\n",
    "    value_list =[]\n",
    "    for index , i in enumerate(populaiton):\n",
    "      \n",
    "        value = i['x']*20000 + i['y']*15000 + i['z']*17000\n",
    "        value_list.append(value)\n",
    "        \n",
    "    total = sum(value_list) \n",
    "    \n",
    "    for index , i in enumerate(value_list):\n",
    "        temp= {\n",
    "            'Generation' : f\"Gen - {index+1}\",\n",
    "            \"Fitness\" : round(1/(i/total) , 2)\n",
    "        }\n",
    "       \n",
    "        fitness_list.append(temp)\n",
    "        \n",
    "    fitness_list = sorted(fitness_list , key=lambda k : k['Fitness'] ,reverse=True)\n",
    "   \n",
    "    return (fitness_list)\n",
    "       \n",
    "\n",
    "fitness()"
   ]
  },
  {
   "cell_type": "code",
   "execution_count": 17,
   "metadata": {},
   "outputs": [
    {
     "data": {
      "text/plain": [
       "[{'x': '0111', 'y': '0010', 'z': '0001'},\n",
       " {'x': '0100', 'y': '0011', 'z': '0011'},\n",
       " {'x': '0101', 'y': '0001', 'z': '0100'},\n",
       " {'x': '0110', 'y': '0011', 'z': '0001'}]"
      ]
     },
     "execution_count": 17,
     "metadata": {},
     "output_type": "execute_result"
    }
   ],
   "source": [
    "def encoding_function():\n",
    "    #pass in the population and encode them\n",
    "    population = generate_population() \n",
    "    # binary encoding \n",
    "    encoded_population =[]\n",
    "    for p in population:\n",
    "        x = bin(p['x'])[2:].zfill(4) \n",
    "        y = bin(p['y'])[2:].zfill(4) \n",
    "        z = bin(p['z'])[2:].zfill(4) \n",
    "        temp ={\n",
    "            \"x\" : x,\n",
    "             \"y\" : y,\n",
    "             'z' : z\n",
    "        }\n",
    "        encoded_population.append(temp)\n",
    "    \n",
    "\n",
    "encoding_function()\n",
    "        "
   ]
  },
  {
   "cell_type": "code",
   "execution_count": null,
   "metadata": {},
   "outputs": [],
   "source": [
    "# def crossover_function():\n",
    "#     encoded_parents = encoding_function()\n",
    "#     for index , e in enumerate(encoding_function):\n",
    "#         # get the bits of the cross over postion \n",
    "   "
   ]
  },
  {
   "cell_type": "code",
   "execution_count": 80,
   "metadata": {},
   "outputs": [
    {
     "name": "stdout",
     "output_type": "stream",
     "text": [
      "{'child_one_1_x': '0111', 'child_two_1_x': '0110'}\n",
      "{'child_one_1_x': '0111', 'child_two_1_x': '0110'}\n",
      "{'child_one_1_y': '0010', 'child_two_1_y': '0011'}\n",
      "{'child_one_1_z': '0001', 'child_two_1_z': '0001'}\n",
      "{'child_one_2_x': '0111', 'child_two_2_x': '0111'}\n",
      "{'child_one_2_y': '0010', 'child_two_2_y': '0011'}\n",
      "{'child_one_2_z': '0001', 'child_two_2_z': '0000'}\n",
      "{'child_one_3_x': '0111', 'child_two_3_x': '0110'}\n",
      "{'child_one_3_y': '0010', 'child_two_3_y': '0011'}\n",
      "{'child_one_3_z': '0001', 'child_two_3_z': '0001'}\n"
     ]
    }
   ],
   "source": [
    "test_list = [{'x': '0111', 'y': '0010', 'z': '0001'},\n",
    " {'x': '0100', 'y': '0011', 'z': '0011'},\n",
    " {'x': '0101', 'y': '0001', 'z': '0100'},\n",
    " {'x': '0110', 'y': '0011', 'z': '0001'}]\n",
    "\n",
    "elite_parent = test_list[0]\n",
    "child_list = []\n",
    "for  index , parent in enumerate(test_list[1:]):\n",
    "    \n",
    "    for p in parent:\n",
    "        child_one = elite_parent[p]\n",
    "        child_two = parent[p]\n",
    "        gene_one = elite_parent[p][1:3]\n",
    "        gene_two = parent[p][1:3]\n",
    "        child_one = list(child_one)\n",
    "        child_two = list(child_two)\n",
    "        child_two[1:3] = gene_one\n",
    "        child_one = ''.join(map(str , child_one))\n",
    "        child_two =''.join(map(str , child_two))\n",
    "        child_list.append({\n",
    "            f\"child_one_{index+1}_{p}\" : child_one ,\n",
    "            f'child_two_{index+1}_{p}' : child_two\n",
    "        })\n",
    "        \n",
    "    \n",
    "\n",
    "print(child_list[0])\n",
    "\n",
    "for element in child_list:\n",
    "    # for e in element:\n",
    "        print(element)\n",
    "# for parent in test_list[1:]:\n",
    "#     print(parent)\n",
    "\n",
    "\n",
    "# child_one = test_list[0]['y']\n",
    "# child_two = test_list[3]['y']\n",
    "# print(child_one , child_two)\n",
    "\n",
    "# gene_one = test_list[0]['y'][1:3]\n",
    "# gene_two = test_list[3]['y'][1:3]\n",
    "\n",
    "# child_one = list(child_one)\n",
    "# child_two = list(child_two)\n",
    "# child_one[1:3] = gene_two\n",
    "# child_two[1:3] = gene_one\n",
    "# child_one = ''.join(map(str , child_one))\n",
    "# child_two =''.join(map(str , child_two))\n",
    "# print(str(child_one) , str(child_two))"
   ]
  },
  {
   "cell_type": "code",
   "execution_count": null,
   "metadata": {},
   "outputs": [],
   "source": []
  }
 ],
 "metadata": {
  "kernelspec": {
   "display_name": "Python 3.10.4 ('virtual_environment': venv)",
   "language": "python",
   "name": "python3"
  },
  "language_info": {
   "codemirror_mode": {
    "name": "ipython",
    "version": 3
   },
   "file_extension": ".py",
   "mimetype": "text/x-python",
   "name": "python",
   "nbconvert_exporter": "python",
   "pygments_lexer": "ipython3",
   "version": "3.10.4"
  },
  "orig_nbformat": 4,
  "vscode": {
   "interpreter": {
    "hash": "2b3644f845682e8943692bbad2d262fd42e55cb4a5e09f070b6604b94eef9333"
   }
  }
 },
 "nbformat": 4,
 "nbformat_minor": 2
}

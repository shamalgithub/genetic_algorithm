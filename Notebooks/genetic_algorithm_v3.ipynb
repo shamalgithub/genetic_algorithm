{
 "cells": [
  {
   "cell_type": "code",
   "execution_count": 35,
   "metadata": {},
   "outputs": [],
   "source": [
    "import pandas as pd \n",
    "import numpy as np \n",
    "import random"
   ]
  },
  {
   "cell_type": "code",
   "execution_count": 36,
   "metadata": {},
   "outputs": [],
   "source": [
    "def is_valid_solution(x,y,z):\n",
    "    if (x+y+z == 10 and x>0 and y> 0 and z>0):\n",
    "        return True\n",
    "    else:\n",
    "        return False"
   ]
  },
  {
   "cell_type": "code",
   "execution_count": 37,
   "metadata": {},
   "outputs": [],
   "source": [
    "def mutaion_function(child_gene):\n",
    "    \n",
    "    random_number = random.randint(1 ,20)\n",
    "    if(random_number == 1):\n",
    "        # print(\"Mutation occured !!\")\n",
    "        random_bit = random.randint(1 , len(child_gene))\n",
    "        child_gene = list(child_gene)\n",
    "        random_bit = random.randint(0 , len(child_gene)-1)\n",
    "        if(child_gene[random_bit] == \"0\"):\n",
    "            child_gene[random_bit] = \"1\"\n",
    "        else:\n",
    "            child_gene[random_bit] =\"0\"\n",
    "        return(''.join(map(str , child_gene)))  \n",
    "    else:\n",
    "        return(child_gene)  "
   ]
  },
  {
   "cell_type": "code",
   "execution_count": 38,
   "metadata": {},
   "outputs": [],
   "source": [
    "def objective_function(x , y , z):\n",
    "    if (x+y+z == 10 and x>0 and y>0 and z>0):\n",
    "        \n",
    "        return (x*20000 + y*15000 + z*17000)\n",
    " \n",
    "    else:\n",
    "       \n",
    "        return 0"
   ]
  },
  {
   "cell_type": "code",
   "execution_count": 39,
   "metadata": {},
   "outputs": [],
   "source": [
    "\n",
    "def fitness(parents_dataframe):\n",
    "\n",
    "    fitness_total = sum(parents_dataframe.apply(lambda x: objective_function(x['x'],x['y'],x['z']) , axis=1))\n",
    "    parents_dataframe[\"fitness\"] = parents_dataframe.apply(lambda x : 1/(objective_function(x['x'],x['y'],x['z'])/fitness_total) if (objective_function(x['x'],x['y'],x['z']) > 0) else 0 , axis=1)\n",
    "  \n",
    "    parents_dataframe = parents_dataframe[parents_dataframe[\"fitness\"]>0]\n",
    "    parents_dataframe  = parents_dataframe.sort_values(by=['fitness'] , ascending=False)\n",
    "    return (parents_dataframe.reset_index(drop=True))"
   ]
  },
  {
   "cell_type": "code",
   "execution_count": 40,
   "metadata": {},
   "outputs": [],
   "source": [
    "def generate_population():\n",
    "    \n",
    "    number_of_parents = 4\n",
    "    generation =[]\n",
    "    while (len(generation) < number_of_parents):\n",
    "        x =(random.randint(1,9))\n",
    "        y =(random.randint(1,9))\n",
    "        z =(random.randint(1,9))\n",
    "        if (is_valid_solution(x , y , z)):\n",
    "            temp = {\n",
    "                'x':x,\n",
    "                'y':y ,\n",
    "                'z':z\n",
    "            }\n",
    "            generation.append(temp)\n",
    "    \n",
    "    df = pd.DataFrame(generation)\n",
    "   \n",
    "    return df"
   ]
  },
  {
   "cell_type": "code",
   "execution_count": 41,
   "metadata": {},
   "outputs": [],
   "source": [
    "def convert_to_binary(x):\n",
    "    return (bin(x)[2:].zfill(4))\n",
    "\n",
    "def encoding_function(parents_dataframe):\n",
    "    \n",
    "    temp_dataframe = parents_dataframe.drop(['fitness' , 'generation'],axis=1)\n",
    "    column_list = temp_dataframe.columns\n",
    "    for columns in column_list:\n",
    "        temp_dataframe[columns]  = temp_dataframe[columns].apply(lambda x : convert_to_binary(x))\n",
    "    \n",
    "    return(temp_dataframe)\n",
    "\n",
    "def decoding_function(x):\n",
    "    return int(x ,2)\n",
    "    "
   ]
  },
  {
   "cell_type": "code",
   "execution_count": 42,
   "metadata": {},
   "outputs": [],
   "source": [
    "def bit_swap_function(parent_column):\n",
    "    elite_parent_counter = 0 \n",
    "    parent_counter = 1\n",
    "    child_list =[]\n",
    "    while(elite_parent_counter <= len(parent_column)-1):\n",
    "        elite_parent = parent_column[elite_parent_counter]\n",
    "        \n",
    "        for parent in parent_column[parent_counter:]:\n",
    "            child_one = list(elite_parent)\n",
    "            child_two = list(parent)\n",
    "            gene_one = elite_parent[1:3]\n",
    "            gene_two = parent[1:3]\n",
    "            child_one[1:3] = gene_two\n",
    "            child_two[1:3] = gene_one\n",
    "            child_one = ''.join(map(str , child_one))\n",
    "            child_two =''.join(map(str , child_two))\n",
    "            child_one =(mutaion_function(child_one))\n",
    "            child_two=(mutaion_function(child_two))\n",
    "            child_list.append(child_one)\n",
    "            child_list.append(child_two)  \n",
    "        elite_parent_counter = elite_parent_counter + 1\n",
    "        parent_counter = parent_counter + 1 \n",
    "            \n",
    "   \n",
    "    # print(\"child_list --->\",child_list)\n",
    "    return child_list\n",
    "    \n",
    "\n",
    "def cross_over_function(parent_dataframe):\n",
    "    encoded_dataframe = encoding_function(parent_dataframe)\n",
    "    encoded_dataframe_new = pd.DataFrame()\n",
    "    for column in encoded_dataframe.columns:\n",
    "        encoded_dataframe_new[column] = bit_swap_function(list(encoded_dataframe[column]))\n",
    "    # the rows are arranged in order of the fitness , the top row has the highest fitness\n",
    "    return encoded_dataframe_new.applymap(decoding_function)"
   ]
  },
  {
   "cell_type": "code",
   "execution_count": 43,
   "metadata": {},
   "outputs": [],
   "source": [
    "def elite_children(generation):\n",
    "    \n",
    "    generation_number = generation['generation'].max()\n",
    "    temp_df = generation[generation['generation'] != generation_number]\n",
    "    elite_generation = generation.drop(columns=\"generation\")\n",
    "    elite_generation.drop_duplicates(inplace=True)\n",
    "    \n",
    "    if(len(elite_generation) < 4):\n",
    "        elite_generation['generation'] = generation_number\n",
    "        elite_generation = pd.concat([temp_df , elite_generation] ,axis=0)\n",
    "        elite_generation.sort_values(by='fitness' , ascending=False , inplace=True)\n",
    "        return elite_generation\n",
    "        \n",
    "    else:\n",
    "        elite_generation = elite_generation.head(4)\n",
    "        elite_generation['generation'] = generation_number\n",
    "        elite_generation = pd.concat([temp_df , elite_generation] ,axis=0)\n",
    "        elite_generation.sort_values(by='fitness' ,ascending=False, inplace=True)\n",
    "        return elite_generation"
   ]
  },
  {
   "cell_type": "code",
   "execution_count": 44,
   "metadata": {},
   "outputs": [],
   "source": [
    "generation_list = [None]*40\n",
    "generation_list[0] = (fitness(generate_population()))\n",
    "generation_list[0]['generation'] =1\n"
   ]
  },
  {
   "cell_type": "code",
   "execution_count": 45,
   "metadata": {},
   "outputs": [],
   "source": [
    "for i in range(1, len(generation_list)):\n",
    "    generation_list[i] = cross_over_function(generation_list[i-1])\n",
    "    \n",
    "    (generation_list[i]).drop_duplicates(inplace=True)\n",
    "    generation_list[i]['generation'] =i+1\n",
    "    generation_list[i]['fitness']=''\n",
    "    generation_list[i]=pd.concat([generation_list[i-1] ,generation_list[i]] , axis=0)\n",
    "    generation_list[i] = fitness(generation_list[i])\n",
    "    generation_list[i] = elite_children(generation_list[i])\n",
    "\n",
    "output = generation_list[len(generation_list)-1]  "
   ]
  },
  {
   "cell_type": "code",
   "execution_count": 46,
   "metadata": {},
   "outputs": [],
   "source": [
    "generation_names =output['generation'].unique()\n",
    "generation_names\n",
    "fitness_table = pd.DataFrame({'generation': [], 'fitness_score': []})\n",
    "\n",
    "for i in generation_names:\n",
    "    mean_fitness = output[output['generation']==i]['fitness'].mean()\n",
    "    fitness_table.loc[len(fitness_table)] = [i, mean_fitness]\n",
    "    \n",
    "fitness_table.sort_values(by=\"generation\" ,inplace=True)\n",
    "fitness_table['fitness_score_pct_change'] = fitness_table['fitness_score'].pct_change()\n"
   ]
  },
  {
   "cell_type": "code",
   "execution_count": 47,
   "metadata": {},
   "outputs": [
    {
     "data": {
      "image/png": "[encoded data removed]",
      "text/plain": [
       "<Figure size 640x480 with 1 Axes>"
      ]
     },
     "metadata": {},
     "output_type": "display_data"
    }
   ],
   "source": [
    "import matplotlib.pyplot as plt\n",
    "\n",
    "fitness_table.plot(x='generation', y='fitness_score', kind='line')\n",
    "plt.show()"
   ]
  },
  {
   "cell_type": "code",
   "execution_count": 48,
   "metadata": {},
   "outputs": [
    {
     "name": "stdout",
     "output_type": "stream",
     "text": [
      "3.18%\n"
     ]
    }
   ],
   "source": [
    "print(f\"{round(fitness_table['fitness_score_pct_change'].sum()*100 ,2)}%\")"
   ]
  },
  {
   "cell_type": "code",
   "execution_count": null,
   "metadata": {},
   "outputs": [],
   "source": [
    "import numpy as np \n",
    "def sig(x):\n",
    " return 1/(1 + np.exp(-x))"
   ]
  },
  {
   "cell_type": "code",
   "execution_count": null,
   "metadata": {},
   "outputs": [],
   "source": [
    "fitness_table['']"
   ]
  }
 ],
 "metadata": {
  "kernelspec": {
   "display_name": "virtual_environment",
   "language": "python",
   "name": "python3"
  },
  "language_info": {
   "codemirror_mode": {
    "name": "ipython",
    "version": 3
   },
   "file_extension": ".py",
   "mimetype": "text/x-python",
   "name": "python",
   "nbconvert_exporter": "python",
   "pygments_lexer": "ipython3",
   "version": "3.10.4"
  },
  "orig_nbformat": 4,
  "vscode": {
   "interpreter": {
    "hash": "2b3644f845682e8943692bbad2d262fd42e55cb4a5e09f070b6604b94eef9333"
   }
  }
 },
 "nbformat": 4,
 "nbformat_minor": 2
}
